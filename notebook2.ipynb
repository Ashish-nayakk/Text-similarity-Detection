{
 "cells": [
  {
   "cell_type": "code",
   "execution_count": 1,
   "id": "028fc468",
   "metadata": {},
   "outputs": [],
   "source": [
    "import streamlit as st\n",
    "from sentence_transformers import SentenceTransformer, util\n",
    "from sklearn.metrics import accuracy_score, f1_score, roc_auc_score, mean_squared_error, precision_recall_curve\n",
    "import numpy as np\n",
    "import matplotlib.pyplot as plt"
   ]
  },
  {
   "cell_type": "code",
   "execution_count": 2,
   "id": "2d236352",
   "metadata": {},
   "outputs": [],
   "source": [
    "# Load SBERT model\n",
    "@st.cache_resource\n",
    "def load_model():\n",
    "    return SentenceTransformer('all-MiniLM-L6-v2')"
   ]
  },
  {
   "cell_type": "code",
   "execution_count": 3,
   "id": "08d5402f",
   "metadata": {},
   "outputs": [
    {
     "name": "stderr",
     "output_type": "stream",
     "text": [
      "2025-08-23 11:00:51.569 WARNING streamlit.runtime.scriptrunner_utils.script_run_context: Thread 'MainThread': missing ScriptRunContext! This warning can be ignored when running in bare mode.\n",
      "2025-08-23 11:00:52.108 \n",
      "  \u001b[33m\u001b[1mWarning:\u001b[0m to view this Streamlit app on a browser, run it with the following\n",
      "  command:\n",
      "\n",
      "    streamlit run C:\\Users\\lucky\\AppData\\Local\\Packages\\PythonSoftwareFoundation.Python.3.12_qbz5n2kfra8p0\\LocalCache\\local-packages\\Python312\\site-packages\\ipykernel_launcher.py [ARGUMENTS]\n",
      "2025-08-23 11:00:52.109 Thread 'MainThread': missing ScriptRunContext! This warning can be ignored when running in bare mode.\n",
      "2025-08-23 11:00:52.110 Thread 'MainThread': missing ScriptRunContext! This warning can be ignored when running in bare mode.\n",
      "2025-08-23 11:00:52.111 Thread 'MainThread': missing ScriptRunContext! This warning can be ignored when running in bare mode.\n",
      "2025-08-23 11:00:52.621 Thread 'Thread-3': missing ScriptRunContext! This warning can be ignored when running in bare mode.\n",
      "2025-08-23 11:00:52.625 Thread 'Thread-3': missing ScriptRunContext! This warning can be ignored when running in bare mode.\n",
      "2025-08-23 11:00:52.628 Thread 'Thread-3': missing ScriptRunContext! This warning can be ignored when running in bare mode.\n",
      "2025-08-23 11:00:57.630 Thread 'MainThread': missing ScriptRunContext! This warning can be ignored when running in bare mode.\n",
      "2025-08-23 11:00:57.630 Thread 'MainThread': missing ScriptRunContext! This warning can be ignored when running in bare mode.\n",
      "2025-08-23 11:00:57.630 Thread 'MainThread': missing ScriptRunContext! This warning can be ignored when running in bare mode.\n",
      "2025-08-23 11:00:57.630 Thread 'MainThread': missing ScriptRunContext! This warning can be ignored when running in bare mode.\n",
      "2025-08-23 11:00:57.630 Thread 'MainThread': missing ScriptRunContext! This warning can be ignored when running in bare mode.\n",
      "2025-08-23 11:00:57.630 Thread 'MainThread': missing ScriptRunContext! This warning can be ignored when running in bare mode.\n",
      "2025-08-23 11:00:57.630 Thread 'MainThread': missing ScriptRunContext! This warning can be ignored when running in bare mode.\n",
      "2025-08-23 11:00:57.630 Thread 'MainThread': missing ScriptRunContext! This warning can be ignored when running in bare mode.\n",
      "2025-08-23 11:00:57.630 Thread 'MainThread': missing ScriptRunContext! This warning can be ignored when running in bare mode.\n",
      "2025-08-23 11:00:57.630 Thread 'MainThread': missing ScriptRunContext! This warning can be ignored when running in bare mode.\n",
      "2025-08-23 11:00:57.630 Thread 'MainThread': missing ScriptRunContext! This warning can be ignored when running in bare mode.\n",
      "2025-08-23 11:00:57.630 Thread 'MainThread': missing ScriptRunContext! This warning can be ignored when running in bare mode.\n",
      "2025-08-23 11:00:57.630 Thread 'MainThread': missing ScriptRunContext! This warning can be ignored when running in bare mode.\n",
      "2025-08-23 11:00:57.646 Thread 'MainThread': missing ScriptRunContext! This warning can be ignored when running in bare mode.\n",
      "2025-08-23 11:00:57.649 Thread 'MainThread': missing ScriptRunContext! This warning can be ignored when running in bare mode.\n",
      "2025-08-23 11:00:57.649 Thread 'MainThread': missing ScriptRunContext! This warning can be ignored when running in bare mode.\n",
      "2025-08-23 11:00:57.649 Thread 'MainThread': missing ScriptRunContext! This warning can be ignored when running in bare mode.\n",
      "2025-08-23 11:00:57.649 Thread 'MainThread': missing ScriptRunContext! This warning can be ignored when running in bare mode.\n",
      "2025-08-23 11:00:57.649 Thread 'MainThread': missing ScriptRunContext! This warning can be ignored when running in bare mode.\n",
      "2025-08-23 11:00:57.654 Thread 'MainThread': missing ScriptRunContext! This warning can be ignored when running in bare mode.\n",
      "2025-08-23 11:00:57.654 Thread 'MainThread': missing ScriptRunContext! This warning can be ignored when running in bare mode.\n",
      "2025-08-23 11:00:57.656 Thread 'MainThread': missing ScriptRunContext! This warning can be ignored when running in bare mode.\n",
      "2025-08-23 11:00:57.656 Thread 'MainThread': missing ScriptRunContext! This warning can be ignored when running in bare mode.\n",
      "2025-08-23 11:00:57.657 Thread 'MainThread': missing ScriptRunContext! This warning can be ignored when running in bare mode.\n",
      "2025-08-23 11:00:57.657 Thread 'MainThread': missing ScriptRunContext! This warning can be ignored when running in bare mode.\n",
      "2025-08-23 11:00:57.657 Thread 'MainThread': missing ScriptRunContext! This warning can be ignored when running in bare mode.\n",
      "2025-08-23 11:00:57.657 Thread 'MainThread': missing ScriptRunContext! This warning can be ignored when running in bare mode.\n"
     ]
    }
   ],
   "source": [
    "model = load_model()\n",
    "\n",
    "st.title(\"📄 Smart Similarity Detection System\")\n",
    "st.write(\"Upload two text documents to compare semantic similarity using SBERT.\")\n",
    "\n",
    "# File upload\n",
    "file1 = st.file_uploader(\"Upload first document\", type=[\"txt\"])\n",
    "file2 = st.file_uploader(\"Upload second document\", type=[\"txt\"])\n",
    "\n",
    "threshold = st.slider(\"Similarity threshold\", 0.0, 1.0, 0.5, 0.01)"
   ]
  },
  {
   "cell_type": "code",
   "execution_count": 9,
   "id": "7a10c192",
   "metadata": {},
   "outputs": [],
   "source": [
    "if file1 and file2:\n",
    "    # Read text files\n",
    "    text1 = file1.read().decode(\"utf-8\")\n",
    "    text2 = file2.read().decode(\"utf-8\")\n",
    "\n",
    "    st.subheader(\"Document Preview\")\n",
    "    st.text_area(\"Document 1\", text1[:1000], height=150)\n",
    "    st.text_area(\"Document 2\", text2[:1000], height=150)\n",
    "     # Encode & compute similarity\n",
    "    emb1 = model.encode(text1, convert_to_tensor=True)\n",
    "    emb2 = model.encode(text2, convert_to_tensor=True)\n",
    "    similarity = util.cos_sim(emb1, emb2).item()\n",
    "\n",
    "    st.subheader(\"🔎 Similarity Score\")\n",
    "    st.metric(\"Cosine Similarity\", f\"{similarity:.4f}\") \n",
    "     # Classification based on threshold\n",
    "    prediction = int(similarity >= threshold)\n",
    "    st.write(f\"Prediction (threshold={threshold}):\", \n",
    "             \"Similar ✅\" if prediction == 1 else \"Not Similar ❌\")\n",
    "\n",
    "    # Ask user for ground truth label\n",
    "    st.subheader(\"Evaluation Metrics\")\n",
    "    st.write(\"Provide ground truth label to evaluate performance.\")\n",
    "    true_label = st.radio(\"Are the documents truly similar?\", [\"Yes\", \"No\"])\n",
    "    y_true = [1 if true_label == \"Yes\" else 0]\n",
    "    y_pred = [prediction]\n",
    "\n",
    "    # Metrics\n",
    "    acc = accuracy_score(y_true, y_pred)\n",
    "    f1 = f1_score(y_true, y_pred)\n",
    "    try:\n",
    "        roc = roc_auc_score(y_true, [similarity])\n",
    "    except ValueError:\n",
    "        roc = None\n",
    "    rmse = np.sqrt(mean_squared_error([similarity], y_true))\n",
    "\n",
    "    st.write(f\"**Accuracy:** {acc:.3f}\")\n",
    "    st.write(f\"**F1-Score:** {f1:.3f}\")\n",
    "    st.write(f\"**ROC-AUC:** {roc:.3f}\" if roc else \"ROC-AUC: N/A (need both classes)\")\n",
    "    st.write(f\"**RMSE:** {rmse:.3f}\")\n",
    "\n",
    "    # Precision-Recall curve\n",
    "    st.subheader(\"Precision-Recall Visualization\")\n",
    "    y_scores = [similarity]\n",
    "    precisions, recalls, _ = precision_recall_curve(y_true, y_scores)\n",
    "\n",
    "    fig, ax = plt.subplots()\n",
    "    ax.plot(recalls, precisions, marker='.')\n",
    "    ax.set_xlabel(\"Recall\")\n",
    "    ax.set_ylabel(\"Precision\")\n",
    "    ax.set_title(\"Precision-Recall Curve\")\n",
    "    st.pyplot(fig)"
   ]
  },
  {
   "cell_type": "code",
   "execution_count": null,
   "id": "8af657bc",
   "metadata": {},
   "outputs": [],
   "source": []
  }
 ],
 "metadata": {
  "kernelspec": {
   "display_name": "Python 3",
   "language": "python",
   "name": "python3"
  },
  "language_info": {
   "codemirror_mode": {
    "name": "ipython",
    "version": 3
   },
   "file_extension": ".py",
   "mimetype": "text/x-python",
   "name": "python",
   "nbconvert_exporter": "python",
   "pygments_lexer": "ipython3",
   "version": "3.12.10"
  }
 },
 "nbformat": 4,
 "nbformat_minor": 5
}
